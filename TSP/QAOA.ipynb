{
 "cells": [
  {
   "cell_type": "code",
   "execution_count": 2,
   "id": "db53b854",
   "metadata": {},
   "outputs": [
    {
     "name": "stdout",
     "output_type": "stream",
     "text": [
      "optimal function value: 4.0\n",
      "optimal value: [1. 0. 1. 0.]\n",
      "status: SUCCESS\n"
     ]
    }
   ],
   "source": [
    "from docplex.mp.model import Model\n",
    "\n",
    "from qiskit_optimization.algorithms import MinimumEigenOptimizer\n",
    "from qiskit_optimization.translators import from_docplex_mp\n",
    "\n",
    "from qiskit.utils import algorithm_globals, QuantumInstance\n",
    "from qiskit import BasicAer\n",
    "from qiskit.algorithms import QAOA\n",
    "from qiskit.algorithms.optimizers import SPSA\n",
    "\n",
    "# Generate a graph of 4 nodes\n",
    "n = 4\n",
    "edges = [(0, 1, 1.0), (0, 2, 1.0), (0, 3, 1.0), (1, 2, 1.0), (2, 3, 1.0)]  # (node_i, node_j, weight)\n",
    "\n",
    "# Formulate the problem as a Docplex model\n",
    "model = Model()\n",
    "\n",
    "# Create n binary variables\n",
    "x = model.binary_var_list(n)\n",
    "\n",
    "# Define the objective function to be maximized\n",
    "model.maximize(model.sum(w * x[i] * (1 - x[j]) + w * (1 - x[i]) * x[j] for i, j, w in edges))\n",
    "\n",
    "# Fix node 0 to be 1 to break the symmetry of the max-cut solution\n",
    "model.add(x[0] == 1)\n",
    "\n",
    "# Convert the Docplex model into a `QuadraticProgram` object\n",
    "problem = from_docplex_mp(model)\n",
    "\n",
    "# Run quantum algorithm QAOA on qasm simulator\n",
    "seed = 1234\n",
    "algorithm_globals.random_seed = seed\n",
    "\n",
    "spsa = SPSA(maxiter=250)\n",
    "backend = BasicAer.get_backend('qasm_simulator')\n",
    "q_i = QuantumInstance(backend=backend, seed_simulator=seed, seed_transpiler=seed)\n",
    "qaoa = QAOA(optimizer=spsa, reps=5, quantum_instance=q_i)\n",
    "algorithm = MinimumEigenOptimizer(qaoa)\n",
    "result = algorithm.solve(problem)\n",
    "print(result)  # prints solution, x=[1, 0, 1, 0], the cost, fval=4"
   ]
  },
  {
   "cell_type": "code",
   "execution_count": null,
   "id": "4223f3e1",
   "metadata": {},
   "outputs": [],
   "source": []
  }
 ],
 "metadata": {
  "kernelspec": {
   "display_name": "Python 3 (ipykernel)",
   "language": "python",
   "name": "python3"
  },
  "language_info": {
   "codemirror_mode": {
    "name": "ipython",
    "version": 3
   },
   "file_extension": ".py",
   "mimetype": "text/x-python",
   "name": "python",
   "nbconvert_exporter": "python",
   "pygments_lexer": "ipython3",
   "version": "3.10.6"
  }
 },
 "nbformat": 4,
 "nbformat_minor": 5
}
